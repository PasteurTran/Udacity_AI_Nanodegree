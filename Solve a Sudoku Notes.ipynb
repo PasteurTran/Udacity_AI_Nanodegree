{
 "cells": [
  {
   "cell_type": "markdown",
   "metadata": {},
   "source": [
    "# Step 1 - Establishing the Board"
   ]
  },
  {
   "cell_type": "code",
   "execution_count": 1,
   "metadata": {
    "collapsed": true
   },
   "outputs": [],
   "source": [
    "rows = 'ABCDEFGHI'\n",
    "cols = '123456789'"
   ]
  },
  {
   "cell_type": "code",
   "execution_count": 2,
   "metadata": {
    "collapsed": true
   },
   "outputs": [],
   "source": [
    "def cross(a, b):\n",
    "    \"\"\"\n",
    "    a,b -> Strings, returns a list of strings\n",
    "    cross('abc', 'def') will return ['ad', 'ae', 'af', 'bd', 'be', 'bf', 'cd', 'ce', 'cf'].\n",
    "    \"\"\"\n",
    "    return [s+t for s in a for t in b]"
   ]
  },
  {
   "cell_type": "code",
   "execution_count": 3,
   "metadata": {
    "collapsed": true
   },
   "outputs": [],
   "source": [
    "boxes = cross(rows, cols)"
   ]
  },
  {
   "cell_type": "code",
   "execution_count": null,
   "metadata": {
    "collapsed": true
   },
   "outputs": [],
   "source": []
  },
  {
   "cell_type": "code",
   "execution_count": 4,
   "metadata": {
    "collapsed": true
   },
   "outputs": [],
   "source": [
    "#boxes\n",
    "# Firstly form all the rows\n",
    "# row_units[0] is the top most row\n",
    "row_units = [cross(r, cols) for r in rows]\n",
    "\n",
    "# Now form all the columns in column\n",
    "# So column_units[0] - will return all the labels in FIRST column\n",
    "column_units = [cross(rows, c) for c in cols]\n",
    "\n",
    "# This is for the top left square - square_units[0], 3 would be middle left\n",
    "square_units = [cross(rs, cs) for rs in ('ABC','DEF','GHI') for cs in ('123','456','789')]"
   ]
  },
  {
   "cell_type": "code",
   "execution_count": 5,
   "metadata": {
    "collapsed": true
   },
   "outputs": [],
   "source": [
    "# Create entire list\n",
    "unitlist = row_units + column_units + square_units"
   ]
  },
  {
   "cell_type": "markdown",
   "metadata": {},
   "source": [
    "# Step 2 - Form the grid_values() \n",
    "- i.e. for each dictionary connect where it is empty '.' or... it has a value"
   ]
  },
  {
   "cell_type": "code",
   "execution_count": 6,
   "metadata": {},
   "outputs": [
    {
     "data": {
      "text/plain": [
       "[['A1', 'A2', 'A3', 'B1', 'B2', 'B3', 'C1', 'C2', 'C3'],\n",
       " ['A4', 'A5', 'A6', 'B4', 'B5', 'B6', 'C4', 'C5', 'C6'],\n",
       " ['A7', 'A8', 'A9', 'B7', 'B8', 'B9', 'C7', 'C8', 'C9'],\n",
       " ['D1', 'D2', 'D3', 'E1', 'E2', 'E3', 'F1', 'F2', 'F3'],\n",
       " ['D4', 'D5', 'D6', 'E4', 'E5', 'E6', 'F4', 'F5', 'F6'],\n",
       " ['D7', 'D8', 'D9', 'E7', 'E8', 'E9', 'F7', 'F8', 'F9'],\n",
       " ['G1', 'G2', 'G3', 'H1', 'H2', 'H3', 'I1', 'I2', 'I3'],\n",
       " ['G4', 'G5', 'G6', 'H4', 'H5', 'H6', 'I4', 'I5', 'I6'],\n",
       " ['G7', 'G8', 'G9', 'H7', 'H8', 'H9', 'I7', 'I8', 'I9']]"
      ]
     },
     "execution_count": 6,
     "metadata": {},
     "output_type": "execute_result"
    }
   ],
   "source": [
    "square_units"
   ]
  },
  {
   "cell_type": "code",
   "execution_count": 7,
   "metadata": {
    "collapsed": true
   },
   "outputs": [],
   "source": [
    "def grid_values(grid):\n",
    "    \"\"\"Convert grid string into {<box>: <value>} dict with '.' value for empties.\n",
    "\n",
    "    Args:\n",
    "        grid: Sudoku grid in string form, 81 characters long\n",
    "    Returns:\n",
    "        Sudoku grid in dictionary form:\n",
    "        - keys: Box labels, e.g. 'A1'\n",
    "        - values: Value in corresponding box, e.g. '8', or '.' if it is empty.\n",
    "    \"\"\"\n",
    "    assert len(grid) == 81 # must ensure that this is 81\n",
    "    # https://stackoverflow.com/questions/209840/map-two-lists-into-a-dictionary-in-python\n",
    "    dictionary = dict(zip(boxes, grid))\n",
    "    \n",
    "    # Replace all . values with '123456789'\n",
    "    for keys, values in dictionary.items():\n",
    "        if values == '.':\n",
    "            dictionary[keys] = '123456789'\n",
    "            \n",
    "    \n",
    "    return dictionary     "
   ]
  },
  {
   "cell_type": "code",
   "execution_count": 15,
   "metadata": {
    "collapsed": true
   },
   "outputs": [],
   "source": [
    "#grid_values('...........................999999999999123456789099999999999999119987654321099999')"
   ]
  },
  {
   "cell_type": "markdown",
   "metadata": {},
   "source": [
    "# Step 3 - Elimination\n",
    "- Goes through eliminating single values"
   ]
  },
  {
   "cell_type": "code",
   "execution_count": 4,
   "metadata": {},
   "outputs": [
    {
     "ename": "NameError",
     "evalue": "name 'boxes' is not defined",
     "output_type": "error",
     "traceback": [
      "\u001b[0;31m---------------------------------------------------------------------------\u001b[0m",
      "\u001b[0;31mNameError\u001b[0m                                 Traceback (most recent call last)",
      "\u001b[0;32m<ipython-input-4-27faacffc847>\u001b[0m in \u001b[0;36m<module>\u001b[0;34m()\u001b[0m\n\u001b[0;32m----> 1\u001b[0;31m \u001b[0munits\u001b[0m \u001b[0;34m=\u001b[0m \u001b[0mdict\u001b[0m\u001b[0;34m(\u001b[0m\u001b[0;34m(\u001b[0m\u001b[0ms\u001b[0m\u001b[0;34m,\u001b[0m \u001b[0;34m[\u001b[0m\u001b[0mu\u001b[0m \u001b[0;32mfor\u001b[0m \u001b[0mu\u001b[0m \u001b[0;32min\u001b[0m \u001b[0munitlist\u001b[0m \u001b[0;32mif\u001b[0m \u001b[0ms\u001b[0m \u001b[0;32min\u001b[0m \u001b[0mu\u001b[0m\u001b[0;34m]\u001b[0m\u001b[0;34m)\u001b[0m \u001b[0;32mfor\u001b[0m \u001b[0ms\u001b[0m \u001b[0;32min\u001b[0m \u001b[0mboxes\u001b[0m\u001b[0;34m)\u001b[0m\u001b[0;34m\u001b[0m\u001b[0m\n\u001b[0m\u001b[1;32m      2\u001b[0m \u001b[0mpeers\u001b[0m \u001b[0;34m=\u001b[0m \u001b[0mdict\u001b[0m\u001b[0;34m(\u001b[0m\u001b[0;34m(\u001b[0m\u001b[0ms\u001b[0m\u001b[0;34m,\u001b[0m \u001b[0mset\u001b[0m\u001b[0;34m(\u001b[0m\u001b[0msum\u001b[0m\u001b[0;34m(\u001b[0m\u001b[0munits\u001b[0m\u001b[0;34m[\u001b[0m\u001b[0ms\u001b[0m\u001b[0;34m]\u001b[0m\u001b[0;34m,\u001b[0m\u001b[0;34m[\u001b[0m\u001b[0;34m]\u001b[0m\u001b[0;34m)\u001b[0m\u001b[0;34m)\u001b[0m\u001b[0;34m-\u001b[0m\u001b[0mset\u001b[0m\u001b[0;34m(\u001b[0m\u001b[0;34m[\u001b[0m\u001b[0ms\u001b[0m\u001b[0;34m]\u001b[0m\u001b[0;34m)\u001b[0m\u001b[0;34m)\u001b[0m \u001b[0;32mfor\u001b[0m \u001b[0ms\u001b[0m \u001b[0;32min\u001b[0m \u001b[0mboxes\u001b[0m\u001b[0;34m)\u001b[0m\u001b[0;34m\u001b[0m\u001b[0m\n",
      "\u001b[0;31mNameError\u001b[0m: name 'boxes' is not defined"
     ]
    }
   ],
   "source": [
    "units = dict((s, [u for u in unitlist if s in u]) for s in boxes)\n",
    "peers = dict((s, set(sum(units[s],[]))-set([s])) for s in boxes)"
   ]
  },
  {
   "cell_type": "code",
   "execution_count": 10,
   "metadata": {
    "collapsed": true
   },
   "outputs": [],
   "source": [
    "def eliminate(values):\n",
    "    \"\"\"Eliminate values from peers of each box with a single value.\n",
    "\n",
    "    Go through all the boxes, and whenever there is a box with a single value,\n",
    "    eliminate this value from the set of values of all its peers.\n",
    "\n",
    "    Args:\n",
    "        values: Sudoku in dictionary form.\n",
    "    Returns:\n",
    "        Resulting Sudoku in dictionary form after eliminating values.\n",
    "    \"\"\"\n",
    "    # Find each key or value which is len == 1, add them to a list\n",
    "    solvedList = []\n",
    "    for keys, v in values.items():\n",
    "        if len(v) == 1:\n",
    "            solvedList.append(keys)\n",
    "    # print (solvedList)\n",
    "        \n",
    "    # Check against dictionary\n",
    "    for s in solvedList:\n",
    "        num = values[s]\n",
    "        for p in peers[s]:\n",
    "            values[p] = values[p].replace(num,'')\n",
    "        \n",
    "    return values"
   ]
  },
  {
   "cell_type": "markdown",
   "metadata": {},
   "source": [
    "# Step 4 - Only Choice\n",
    "- Go through all the units, and whenever there is a unit with a value that only fits in one box, assign the value to this box."
   ]
  },
  {
   "cell_type": "code",
   "execution_count": 12,
   "metadata": {
    "collapsed": true
   },
   "outputs": [],
   "source": [
    "dictx = {'C2': ['2', '5', '7'], 'A1': ['1','4', '5'], 'C1': ['2', '5'], 'A2': ['4', '5', '7', '8'], 'B3': ['4', '7'], 'B2': ['2', '4', '6', '7', '8']}"
   ]
  },
  {
   "cell_type": "code",
   "execution_count": 13,
   "metadata": {},
   "outputs": [
    {
     "data": {
      "text/plain": [
       "{'A1': ['1', '4', '5'],\n",
       " 'A2': ['4', '5', '7', '8'],\n",
       " 'B2': ['2', '4', '6', '7', '8'],\n",
       " 'B3': ['4', '7'],\n",
       " 'C1': ['2', '5'],\n",
       " 'C2': ['2', '5', '7']}"
      ]
     },
     "execution_count": 13,
     "metadata": {},
     "output_type": "execute_result"
    }
   ],
   "source": [
    "dictx"
   ]
  },
  {
   "cell_type": "code",
   "execution_count": 57,
   "metadata": {
    "collapsed": true
   },
   "outputs": [],
   "source": [
    "units = dict((s, [u for u in unitlist if s in u]) for s in boxes)"
   ]
  },
  {
   "cell_type": "markdown",
   "metadata": {},
   "source": [
    "# Step 5 - Implement Only_choice"
   ]
  },
  {
   "cell_type": "code",
   "execution_count": 67,
   "metadata": {
    "collapsed": true
   },
   "outputs": [],
   "source": [
    "def only_choice(values):\n",
    "    \"\"\"Finalize all values that are the only choice for a unit.\n",
    "\n",
    "    Go through all the units, and whenever there is a unit with a value\n",
    "    that only fits in one box, assign the value to this box.\n",
    "\n",
    "    Input: Sudoku in dictionary form.\n",
    "    Output: Resulting Sudoku in dictionary form after filling in only choices.\n",
    "    \"\"\"\n",
    "    # TODO: Implement only choice strategy here\n",
    "    # So intention would be to look for each SQUARE UNIT\n",
    "    for unit in unitlist:\n",
    "        # This is a list of lists (each list is the ones in square)\n",
    "        listOfUnchosen = []\n",
    "        listOfUnchosenValues = []\n",
    "        listOfUnique = []\n",
    "        uniqueValues = []\n",
    "        flipped = {}\n",
    "        dictx = {}\n",
    "        # iterate firstly over all the values to find non len 1 ones\n",
    "        for s in unit:\n",
    "\n",
    "            listOfUnchosen.append(s)\n",
    "            listOfUnchosenValues.append(list(values[s]))\n",
    "\n",
    "        dictx = dict(zip(listOfUnchosen,listOfUnchosenValues))\n",
    "        # print(dictx)\n",
    "        \n",
    "        # Check for unique values\n",
    "\n",
    "        for k, v in dictx.items():\n",
    "            for l in v:\n",
    "                if l not in flipped:\n",
    "                    flipped[l] = [k]\n",
    "                else:\n",
    "                    flipped[l].append(k)\n",
    "\n",
    "        for f, g in flipped.items():\n",
    "            if len(g) == 1:\n",
    "                for pos in g:\n",
    "                    listOfUnique.append(pos)\n",
    "                    uniqueValues.append(f)\n",
    "\n",
    "        for l in listOfUnique:\n",
    "            # Make sure nothing else in the list has this number!!!\n",
    "            tempCheck = []\n",
    "            for u in unit:\n",
    "                tempCheck.append(values[u])\n",
    "\n",
    "            #if uniqueValues[listOfUnique.index(l)] not in tempCheck:\n",
    "            #print(tempCheck)\n",
    "            values[l] = uniqueValues[listOfUnique.index(l)]\n",
    "   \n",
    "        \n",
    "    return values"
   ]
  },
  {
   "cell_type": "code",
   "execution_count": 63,
   "metadata": {
    "collapsed": true
   },
   "outputs": [],
   "source": [
    "x = ((len(values[s]), s) for s in boxes if len(values[s]) > 1)\n",
    "\n",
    "# boxes is a list of of every thing"
   ]
  },
  {
   "cell_type": "code",
   "execution_count": 64,
   "metadata": {},
   "outputs": [
    {
     "data": {
      "text/plain": [
       "<generator object <genexpr> at 0x10912d6d0>"
      ]
     },
     "execution_count": 64,
     "metadata": {},
     "output_type": "execute_result"
    }
   ],
   "source": [
    "((len(values[s]), s) for s in boxes) \n",
    "# so this is getting the len, and the "
   ]
  },
  {
   "cell_type": "code",
   "execution_count": 69,
   "metadata": {
    "collapsed": true
   },
   "outputs": [],
   "source": [
    "import random\n",
    "\n",
    "def search(values):\n",
    "    \"Using depth-first search and propagation, create a search tree and solve the sudoku.\"\n",
    "    # First, reduce the puzzle using the previous function\n",
    "    values = reduce_puzzle(values)\n",
    "\n",
    "    if values is False:\n",
    "        return False \n",
    "    if all(len(values[s]) == 1 for s in boxes): \n",
    "        return values \n",
    "        \n",
    "    # Choose one of the unfilled squares with the fewest possibilities\n",
    "    # Each key values.keys will have a box, so you find the length of each box\n",
    "    box_lengths = [len(values[box]) for box in values.keys() if len(values[box]) > 1] \n",
    "    \n",
    "    # find the lowest \n",
    "    min_box = min(box_lengths)\n",
    "    \n",
    "    # Find squares\n",
    "    sq = [box for box in values.keys() if len(values[box]) == min_box]\n",
    "    s = random.choice(sq)\n",
    "   \n",
    "    # Recursion to solve EACH sudoku\n",
    "    # for value in values[s]\n",
    "    for value in values[s]:\n",
    "        new_sudoku = values.copy()\n",
    "        new_sudoku[s] = value\n",
    "        attempt = search(new_sudoku)\n",
    "        if attempt:\n",
    "            return attempt\n"
   ]
  },
  {
   "cell_type": "code",
   "execution_count": 6,
   "metadata": {
    "collapsed": true
   },
   "outputs": [],
   "source": [
    "rows = 'ABCDEFGHI'\n",
    "cols = '123456789'\n",
    "\n",
    "def cross(a, b):\n",
    "    return [s+t for s in a for t in b]\n",
    "\n",
    "boxes = cross(rows, cols)\n",
    "\n",
    "row_units = [cross(r, cols) for r in rows]\n",
    "column_units = [cross(rows, c) for c in cols]\n",
    "square_units = [cross(rs, cs) for rs in ('ABC','DEF','GHI') for cs in ('123','456','789')]\n",
    "unitlist = row_units + column_units + square_units\n",
    "units = dict((s, [u for u in unitlist if s in u]) for s in boxes)\n",
    "peers = dict((s, set(sum(units[s],[]))-set([s])) for s in boxes)\n",
    "\n",
    "def display(values):\n",
    "    \"\"\"\n",
    "    Display the values as a 2-D grid.\n",
    "    Input: The sudoku in dictionary form\n",
    "    Output: None\n",
    "    \"\"\"\n",
    "    width = 1+max(len(values[s]) for s in boxes)\n",
    "    line = '+'.join(['-'*(width*3)]*3)\n",
    "    for r in rows:\n",
    "        print(''.join(values[r+c].center(width)+('|' if c in '36' else '')\n",
    "                      for c in cols))\n",
    "        if r in 'CF': print(line)\n",
    "    return\n",
    "\n",
    "def grid_values(grid):\n",
    "    \"\"\"\n",
    "    Convert grid into a dict of {square: char} with '123456789' for empties.\n",
    "    Input: A grid in string form.\n",
    "    Output: A grid in dictionary form\n",
    "            Keys: The boxes, e.g., 'A1'\n",
    "            Values: The value in each box, e.g., '8'. If the box has no value, then the value will be '123456789'.\n",
    "    \"\"\"\n",
    "    chars = []\n",
    "    digits = '123456789'\n",
    "    for c in grid:\n",
    "        if c in digits:\n",
    "            chars.append(c)\n",
    "        if c == '.':\n",
    "            chars.append(digits)\n",
    "    assert len(chars) == 81\n",
    "    return dict(zip(boxes, chars))\n",
    "    \n",
    "def eliminate(values):\n",
    "    \"\"\"\n",
    "    Go through all the boxes, and whenever there is a box with a value, eliminate this value from the values of all its peers.\n",
    "    Input: A sudoku in dictionary form.\n",
    "    Output: The resulting sudoku in dictionary form.\n",
    "    \"\"\"\n",
    "    solved_values = [box for box in values.keys() if len(values[box]) == 1]\n",
    "    for box in solved_values:\n",
    "        digit = values[box]\n",
    "        for peer in peers[box]:\n",
    "            values[peer] = values[peer].replace(digit,'')\n",
    "    return values\n",
    "\n",
    "def only_choice(values):\n",
    "    \"\"\"\n",
    "    Go through all the units, and whenever there is a unit with a value that only fits in one box, assign the value to this box.\n",
    "    Input: A sudoku in dictionary form.\n",
    "    Output: The resulting sudoku in dictionary form.\n",
    "    \"\"\"\n",
    "    for unit in unitlist:\n",
    "        for digit in '123456789':\n",
    "            dplaces = [box for box in unit if digit in values[box]]\n",
    "            if len(dplaces) == 1:\n",
    "                values[dplaces[0]] = digit\n",
    "    return values\n",
    "\n",
    "def reduce_puzzle(values):\n",
    "    \"\"\"\n",
    "    Iterate eliminate() and only_choice(). If at some point, there is a box with no available values, return False.\n",
    "    If the sudoku is solved, return the sudoku.\n",
    "    If after an iteration of both functions, the sudoku remains the same, return the sudoku.\n",
    "    Input: A sudoku in dictionary form.\n",
    "    Output: The resulting sudoku in dictionary form.\n",
    "    \"\"\"\n",
    "    solved_values = [box for box in values.keys() if len(values[box]) == 1]\n",
    "    stalled = False\n",
    "    while not stalled:\n",
    "        solved_values_before = len([box for box in values.keys() if len(values[box]) == 1])\n",
    "        values = eliminate(values)\n",
    "        values = only_choice(values)\n",
    "        solved_values_after = len([box for box in values.keys() if len(values[box]) == 1])\n",
    "        stalled = solved_values_before == solved_values_after\n",
    "        if len([box for box in values.keys() if len(values[box]) == 0]):\n",
    "            return False\n",
    "    return values"
   ]
  },
  {
   "cell_type": "code",
   "execution_count": 7,
   "metadata": {
    "collapsed": true
   },
   "outputs": [],
   "source": [
    "c = '12345'"
   ]
  },
  {
   "cell_type": "code",
   "execution_count": 8,
   "metadata": {},
   "outputs": [
    {
     "name": "stdout",
     "output_type": "stream",
     "text": [
      "Works\n"
     ]
    }
   ],
   "source": [
    "if '12' in c:\n",
    "    print(\"Works\")"
   ]
  },
  {
   "cell_type": "code",
   "execution_count": 16,
   "metadata": {},
   "outputs": [],
   "source": [
    "values = {'A1':2, 'B2':3 }\n",
    "ux = ['A1','B2']"
   ]
  },
  {
   "cell_type": "code",
   "execution_count": 13,
   "metadata": {},
   "outputs": [
    {
     "name": "stdout",
     "output_type": "stream",
     "text": [
      "A1\n",
      "B2\n"
     ]
    }
   ],
   "source": [
    "for v in dicx:\n",
    "    print (v)"
   ]
  },
  {
   "cell_type": "code",
   "execution_count": 17,
   "metadata": {},
   "outputs": [],
   "source": [
    "l_val=[values[s] for s in ux]"
   ]
  },
  {
   "cell_type": "code",
   "execution_count": 18,
   "metadata": {},
   "outputs": [
    {
     "data": {
      "text/plain": [
       "[2, 3]"
      ]
     },
     "execution_count": 18,
     "metadata": {},
     "output_type": "execute_result"
    }
   ],
   "source": [
    "l_val"
   ]
  },
  {
   "cell_type": "code",
   "execution_count": 21,
   "metadata": {},
   "outputs": [],
   "source": [
    "u_dupes =[l_val.count(s) for s in l_val]"
   ]
  },
  {
   "cell_type": "code",
   "execution_count": 22,
   "metadata": {},
   "outputs": [
    {
     "data": {
      "text/plain": [
       "[1, 1]"
      ]
     },
     "execution_count": 22,
     "metadata": {},
     "output_type": "execute_result"
    }
   ],
   "source": [
    "u_dupes"
   ]
  },
  {
   "cell_type": "code",
   "execution_count": null,
   "metadata": {
    "collapsed": true
   },
   "outputs": [],
   "source": []
  }
 ],
 "metadata": {
  "kernelspec": {
   "display_name": "Python 3",
   "language": "python",
   "name": "python3"
  },
  "language_info": {
   "codemirror_mode": {
    "name": "ipython",
    "version": 3
   },
   "file_extension": ".py",
   "mimetype": "text/x-python",
   "name": "python",
   "nbconvert_exporter": "python",
   "pygments_lexer": "ipython3",
   "version": "3.6.1"
  }
 },
 "nbformat": 4,
 "nbformat_minor": 2
}
