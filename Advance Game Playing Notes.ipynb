{
 "cells": [
  {
   "cell_type": "markdown",
   "metadata": {},
   "source": [
    "## Advance Game Playing notes\n",
    "#### UDACITY + MIT Notes added\n",
    "\n",
    "### Heuristic\n",
    "- Some additional information - a rule, funciton or constraint to make a brute force algorithm to work in a more optimal manner. Let's say you have a path from A-> B, but you could go into multiple path. You use a 'direct distance' heuristic to make sure this is minimal, and you keep going with this constraint.\n",
    "- A* search \n",
    "- Tic Tac Toe: The whole board is a node - you need the position of the opponent to find out what to do next, and to know what nodes are empty - hence you need to know the state of the board, in this case the HEURISTICS\n",
    "\n",
    "### Monty Problem - Probability Theory\n",
    "- Uncertainty - (2 goats , 1 door) \n",
    "- When you pick the first door it won't matter. Each door is 1/3 chance - PRIOR probability. \n",
    "- Now you pick A, and let's say they reveal B.\n",
    "- The POSTERIOR probability now of B is 0\n",
    "- Since he revealed a door - the posterior probability of the car in the other door is increased because he 'LEFT' the door alone. There are TWO options, because HE can only open a door that YOU didn't pick. This only works because HE knows - if he didn't it's different\n",
    "\n",
    "### Environments\n",
    "- Observarbale or partially?\n",
    "- Stoachastic (uncertainty) or deterministic\n",
    "- Discrete finite states, contiunous - infinite \n",
    "- Adverserial (more agents that cant take agents to DEFEAT goals) as opposed to benign\n",
    "\n",
    "#### Game Tree\n",
    "- Fill a spot to reduce the complexity \n",
    "- In some components the player will win in some occasions, so we want to 'eliminate' the bad pathways\n",
    "- It will need to visit b^d nodes\n",
    "\n",
    "#### Exponenetial Time\n",
    "- At each level we iterate down the trees, we result in more iterative nodes, and the tree notes and deependin gnodes is increasing. It's better to search at each level as opposed to searching the full depth of each one. \n",
    "- SO lets say we have ITERATIVE deepnding of b= 3, it adds up the amoutn of nodes we visited.\n",
    "- n = (k^(d+1) - 1)/(k-1) for branches k\n",
    "\n",
    "#### Alpha-beta\n",
    "- The first branch \n",
    "- You go through the first node and find the highest, removing the remaining. \n",
    "- Min max ALTERNATES (you determine the nodes) then move to a MIN of each one, then go to a MAX level"
   ]
  },
  {
   "cell_type": "markdown",
   "metadata": {
    "collapsed": true
   },
   "source": [
    "MIT Refernce: https://www.youtube.com/watch?v=STjW3eH0Cik\n"
   ]
  },
  {
   "cell_type": "markdown",
   "metadata": {
    "collapsed": true
   },
   "source": [
    "# MIT OCW Notes on Minmax, Alpha-beta\n",
    "- You COULD go through all the moves and you moves etc back and forth. But this is endless. These are the 'ways' to play. Given all the examples, witha  depth, and the amoutn of 'branches' which will produce leaf or 'nodes'. \n",
    "- However, analyzing ALL possible examples is ridiculous. \n",
    "\n",
    "## So Minimax - Alpha/Beta\n",
    "- So the maximizing player will try to get to the highest number possible in a branch.\n",
    "- The 'minimizing' player will want to get to the smallest amount - HENCE THE NAME\n",
    "- SO lets say you have a branch: 2/7 and a branch 1/8\n",
    "- For the minimizing sees the branch1, he leads to 2, and the other branch he goes 1 (the minimzer finds). Then the maximizer will pick betwene the 2 and the 1, so he picks to the 2!!!!\n",
    "### The Furthest down the tree you get the better - so we want to chop down as much of the tree as possible\n",
    "- INSTEAD - it alternates the min and max\n",
    "- So the minimzer in branch one says it's 2, and it's less than or equal to 2 (EVEN if the next branch is bigger, it doesn't matter. It then checks it and says =2).\n",
    "- Max looks at this next and says, well no point and can do either >= 2. Then next branch is <=1  - meaning he can't do any point beyond that. \n",
    "- it DOESNT Matter the other branches beyond this. It only chooses what is available.\n",
    "- We don't even have to GENERATE the moves as well as look at the branches! Doubel save. \n",
    "![alphabeta](imagenotes/alphabeta.png)\n"
   ]
  },
  {
   "cell_type": "markdown",
   "metadata": {
    "collapsed": true
   },
   "source": [
    "- so instead of b^d - its now 2*b^(d/2)\n",
    "- SO calculation is (b^d-1 )/ (b-1)\n",
    "- all this is 'progressive deepending' \n",
    "\n",
    "## Alpha and beta\n",
    "- A and B are basically the best for max and the best for Y. A and B are applied on EACH path. So a maximizer node first checks a value - let's say 4. Then it compares itself to B, since B by default is infinitie - then it has to keep looking (OTHERWISE it would ignore the branch)."
   ]
  },
  {
   "cell_type": "markdown",
   "metadata": {
    "collapsed": true
   },
   "source": [
    "### 5-5 isolation tips\n",
    "- 0,0 position is the same as starting at 4,0 (corner of a grid). There are ONLY 6 uniqye moves because of the axis and flips."
   ]
  },
  {
   "cell_type": "markdown",
   "metadata": {
    "collapsed": true
   },
   "source": [
    "# Minimax for the game\n",
    "- Think of the opponent wants to minimize our score.\n",
    "- So hence that is the reason we switch between min and max - becaue the player who picks the score.\n"
   ]
  },
  {
   "cell_type": "code",
   "execution_count": null,
   "metadata": {
    "collapsed": true
   },
   "outputs": [],
   "source": []
  },
  {
   "cell_type": "code",
   "execution_count": null,
   "metadata": {
    "collapsed": true
   },
   "outputs": [],
   "source": []
  },
  {
   "cell_type": "code",
   "execution_count": null,
   "metadata": {
    "collapsed": true
   },
   "outputs": [],
   "source": []
  },
  {
   "cell_type": "markdown",
   "metadata": {},
   "source": []
  }
 ],
 "metadata": {
  "kernelspec": {
   "display_name": "Python 3",
   "language": "python",
   "name": "python3"
  },
  "language_info": {
   "codemirror_mode": {
    "name": "ipython",
    "version": 3
   },
   "file_extension": ".py",
   "mimetype": "text/x-python",
   "name": "python",
   "nbconvert_exporter": "python",
   "pygments_lexer": "ipython3",
   "version": "3.6.1"
  }
 },
 "nbformat": 4,
 "nbformat_minor": 2
}
